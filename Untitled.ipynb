{
 "cells": [],
 "metadata": {
  "environment": {
   "name": "tf-gpu.1-15.m56",
   "type": "gcloud",
   "uri": "gcr.io/deeplearning-platform-release/tf-gpu.1-15:m56"
  }
 },
 "nbformat": 4,
 "nbformat_minor": 4
}
